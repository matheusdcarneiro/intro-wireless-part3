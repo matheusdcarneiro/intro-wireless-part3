{
 "cells": [
  {
   "cell_type": "code",
   "execution_count": 1,
   "id": "02cd2f2d-bcfc-485c-b8de-d4ae42d91c83",
   "metadata": {},
   "outputs": [],
   "source": [
    "import numpy as np\n",
    "from matplotlib import pyplot as plt\n",
    "\n",
    "import sys\n",
    "np.set_printoptions(threshold=sys.maxsize)\n",
    "\n",
    "np.random.seed(14)"
   ]
  },
  {
   "cell_type": "code",
   "execution_count": 2,
   "id": "b2fec128-6546-4c3c-bc14-9df70ee4c3cf",
   "metadata": {},
   "outputs": [],
   "source": [
    "def lin2db(x):\n",
    "    return 10.0*np.log10(x)\n",
    "\n",
    "def db2lin(x):\n",
    "    return 10.0**(x/10.0)\n",
    "\n",
    "def lin2dbm(x):\n",
    "    return 10.0*np.log10(x)+30.0\n",
    "\n",
    "def dbm2lin(x):\n",
    "    return 10.0**(x/10.0 - 3.0)"
   ]
  },
  {
   "cell_type": "code",
   "execution_count": 3,
   "id": "932ced92-a759-4072-b532-8301d773d77e",
   "metadata": {},
   "outputs": [],
   "source": [
    "def eCDF(data):\n",
    "    x = np.sort(data)\n",
    "    y = np.arange(0, len(data)) / len(data)\n",
    "\n",
    "    return x, y "
   ]
  },
  {
   "cell_type": "code",
   "execution_count": 4,
   "id": "07eaa543-e29e-4a34-8a00-3e0c91bf66fa",
   "metadata": {},
   "outputs": [],
   "source": [
    "total_bandwidth = 100e6 # [Hz]\n",
    "tx_power = 1 # [W]\n",
    "\n",
    "environment_constant = 1e-4\n",
    "pathloss_constant = 4\n",
    "\n",
    "ref_distance = 1 # [m]"
   ]
  },
  {
   "cell_type": "code",
   "execution_count": 5,
   "id": "e4b8d2b5-c3e7-4063-ac7d-f9e65f438f29",
   "metadata": {},
   "outputs": [],
   "source": [
    "def random_ue_positions(num_ue, cov_side):\n",
    "    ''' \n",
    "    Returns a random position vector within the coverage area.\n",
    "    \n",
    "    Parameters\n",
    "    ----------\n",
    "    cov_side : int, float\n",
    "        The side [in m] of the coverage area.\n",
    "    num_ue : int\n",
    "        The number of UEs.\n",
    "    '''\n",
    "    \n",
    "    ue_positions = np.zeros((num_ue, 2))\n",
    "    \n",
    "    for ue in range(num_ue):\n",
    "        ue_positions[ue] = [np.random.rand() * cov_side, np.random.rand() * cov_side]\n",
    "        \n",
    "    return ue_positions"
   ]
  },
  {
   "cell_type": "code",
   "execution_count": 6,
   "id": "743c131e-231a-4e84-a8fb-44759e702f44",
   "metadata": {},
   "outputs": [],
   "source": [
    "def ap_positions(num_ap, cov_side):\n",
    "    ''' \n",
    "    Returns the APs positions based on the number of APs.\n",
    "    \n",
    "    Parameters\n",
    "    ----------\n",
    "    num_ap : int\n",
    "        The number of APs.\n",
    "    cov_side : int, float\n",
    "        The side [in m] of coverage area.\n",
    "    '''\n",
    "    \n",
    "    if np.sqrt(num_ap).is_integer():\n",
    "        \n",
    "        side_ap_quantity = int(np.sqrt(num_ap))\n",
    "        \n",
    "        ap_area_side = cov_side // side_ap_quantity\n",
    "        \n",
    "        x_pos, y_pos = np.meshgrid(np.arange(0.5 * ap_area_side,\n",
    "                                             cov_side,\n",
    "                                             ap_area_side),\n",
    "                                   np.arange(0.5 * ap_area_side,\n",
    "                                             cov_side,\n",
    "                                             ap_area_side))\n",
    " \n",
    "        aps_pos = np.column_stack((x_pos.ravel(), y_pos.ravel()))\n",
    "    \n",
    "        return aps_pos\n",
    "    \n",
    "    else:\n",
    "        \n",
    "        print('Number of APs must be a perfect square')"
   ]
  },
  {
   "cell_type": "code",
   "execution_count": 7,
   "id": "2c6c3396-2b36-4fbb-8e85-85c762f36f91",
   "metadata": {},
   "outputs": [],
   "source": [
    "def distance(ue_pos, ap_pos, ref_distance=1):\n",
    "    ''' \n",
    "    Returns the distance [in m] between an UE and an AP. If distance is lower than reference distance, it returns the reference distance.\n",
    "    \n",
    "    Parameters\n",
    "    ----------\n",
    "    ue_pos : int, float\n",
    "        The UE position.\n",
    "    ap_pos : int, float\n",
    "        The AP position.\n",
    "    ref_distance : int, float\n",
    "        The reference distance [in m] from which the gain is calculated.\n",
    "    '''\n",
    "\n",
    "    dis_matrix = np.zeros((ue_pos.shape[0], ap_pos.shape[0]))\n",
    "    \n",
    "    for ue in range(ue_pos.shape[0]):\n",
    "        for ap in range(ap_pos.shape[0]):\n",
    "            dis = np.sqrt(((ue_pos[ue])[0] - (ap_pos[ap])[0])**2\n",
    "                          + ((ue_pos[ue])[1] - (ap_pos[ap])[1])**2)\n",
    "\n",
    "            if dis >= ref_distance:\n",
    "                dis_matrix[ue, ap] = dis\n",
    "            else:\n",
    "                dis_matrix[ue, ap] = ref_distance\n",
    "\n",
    "    return dis_matrix"
   ]
  },
  {
   "cell_type": "code",
   "execution_count": 8,
   "id": "4483c0e6-b0f7-4691-a7b1-681a1e577b6d",
   "metadata": {},
   "outputs": [],
   "source": [
    "def shadowing(std, num_ue, num_ap):\n",
    "\n",
    "    return np.random.lognormal(sigma = std, size = (num_ue, num_ap))"
   ]
  },
  {
   "cell_type": "code",
   "execution_count": 9,
   "id": "67290154-880c-435b-a2d6-3d40835df2ba",
   "metadata": {},
   "outputs": [],
   "source": [
    "def rayleigh(std, num_ue, num_ap, num_ch):\n",
    "\n",
    "    return np.sqrt((std*np.random.randn(num_ch, num_ue, num_ap))**2 + (std*np.random.randn(num_ch, num_ue, num_ap))**2) "
   ]
  },
  {
   "cell_type": "code",
   "execution_count": 10,
   "id": "0f333687-730b-448c-9360-28b3ed340b0f",
   "metadata": {},
   "outputs": [],
   "source": [
    "def random_channel(distance, shadowing, rayleigh):\n",
    "\n",
    "    channel = shadowing * (environment_constant / (distance ** pathloss_constant)) * rayleigh**2\n",
    "    \n",
    "    for row in range(rayleigh.shape[1]):\n",
    "\n",
    "        channel[np.random.randint(0, rayleigh.shape[0]), row, :] = np.zeros(rayleigh.shape[2])\n",
    "        \n",
    "    return channel"
   ]
  },
  {
   "cell_type": "code",
   "execution_count": 11,
   "id": "652c584e-6fe6-4e1a-acba-cfc2f2cbc4c9",
   "metadata": {},
   "outputs": [],
   "source": [
    "def maximum_channel(distance, shadowing, rayleigh):\n",
    "\n",
    "    channel = shadowing * (environment_constant / (distance ** pathloss_constant)) * rayleigh**2\n",
    "\n",
    "    for row in range(rayleigh.shape[1]):\n",
    "    \n",
    "        max_channel = channel[:, row, :].max()\n",
    "        index = np.where(channel[:, row, :] == max_channel)[0][0]\n",
    "\n",
    "        for ch in range(rayleigh.shape[0]):\n",
    "\n",
    "            if ch != index:\n",
    "                \n",
    "                channel[ch, row, :] = np.zeros(rayleigh.shape[2])\n",
    "\n",
    "    return channel"
   ]
  },
  {
   "cell_type": "code",
   "execution_count": 214,
   "id": "3ad0d32e-1e34-4da6-aa44-12275947a859",
   "metadata": {},
   "outputs": [],
   "source": [
    "def reallocation_channel(distance, shadowing, rayleigh):\n",
    "\n",
    "    channel = shadowing * (environment_constant / (distance ** pathloss_constant)) * rayleigh**2\n",
    "\n",
    "    for row in range(rayleigh.shape[1]):\n",
    "    \n",
    "        max_channel = channel[:, row, :].max()\n",
    "        index = np.where(channel[:, row, :] == max_channel)[0][0]\n",
    "\n",
    "        for ch in range(rayleigh.shape[0]):\n",
    "\n",
    "            if ch != index:\n",
    "                \n",
    "                channel[ch, row, :] = np.zeros(rayleigh.shape[2])\n",
    "    \n",
    "    for ch in range(channel.shape[0]):\n",
    "        \n",
    "        for col in range(channel.shape[2]):\n",
    "\n",
    "            in_channel = []\n",
    "            gain_in_channel = []\n",
    "            \n",
    "            for row in range(channel.shape[1]):\n",
    "    \n",
    "                if channel[ch, row, col] == channel[:, row, :].max():\n",
    "\n",
    "                    in_channel.append((ch, row, col))\n",
    "                    gain_in_channel.append(channel[ch, row, col])\n",
    "\n",
    "            if len(in_channel) > 1:\n",
    "\n",
    "                max_index = in_channel[np.where(gain_in_channel == np.array(gain_in_channel).max())[0][0]]\n",
    "\n",
    "                for chan in range(channel.shape[0]):               \n",
    "\n",
    "                    if chan != ch:\n",
    "                        \n",
    "                        for row in range(channel.shape[1]):\n",
    "                            \n",
    "                            if np.array_equal(channel[chan, row, :], np.zeros(channel.shape[2])):\n",
    "                                \n",
    "                                channel[chan, row, :] = channel[ch, max_index[1], :]\n",
    "        \n",
    "                                channel[ch, max_index[1], :] = np.zeros(channel.shape[2])\n",
    "\n",
    "    return channel"
   ]
  },
  {
   "cell_type": "code",
   "execution_count": 211,
   "id": "7c999542-50c9-43a1-a734-e8ae9b856080",
   "metadata": {},
   "outputs": [],
   "source": [
    "# uepos = random_ue_positions(3, 1000)\n",
    "# appos = ap_positions(4, 1000)\n",
    "# dis = distance(uepos, appos)\n",
    "\n",
    "# sh = shadowing(2, 3, 4)\n",
    "# r = rayleigh(1, 3, 4, 2)\n",
    "\n",
    "# ch = reallocation_channel(dis, sh, r)"
   ]
  },
  {
   "cell_type": "code",
   "execution_count": 13,
   "id": "95115398-2cb8-4ab1-9e37-1436215d576e",
   "metadata": {},
   "outputs": [],
   "source": [
    "def sinr(power_vector, channel, power_noise):\n",
    "    \n",
    "    sinr_matrix = np.zeros(channel.shape)\n",
    "    sinr_vector = np.zeros(channel.shape[1])\n",
    "\n",
    "    for ch in range(channel.shape[0]):\n",
    "\n",
    "        for col in range(channel.shape[2]):\n",
    "        \n",
    "            channel_sum = 0\n",
    "            \n",
    "            for row in range(channel.shape[1]):\n",
    "\n",
    "                channel_sum += np.abs(channel[ch, row, col]) * power_vector[row]\n",
    "            \n",
    "            for row in range(channel.shape[1]):\n",
    "    \n",
    "                interest_channel = power_vector[row] * np.abs(channel[ch, row, col])\n",
    "    \n",
    "                sinr_matrix[ch, row, col] = interest_channel / ((channel_sum - interest_channel) + power_noise)\n",
    "\n",
    "    \n",
    "    for row in range(channel.shape[1]):\n",
    "\n",
    "        sinr_vector[row] = sinr_matrix[:, row, :].max()\n",
    "\n",
    "    return lin2db(sinr_vector)"
   ]
  },
  {
   "cell_type": "code",
   "execution_count": 14,
   "id": "ba3c517e-f301-4b2b-99cb-f12fc53da8e7",
   "metadata": {},
   "outputs": [],
   "source": [
    "def capacity(total_bandwidth, sinr):\n",
    "    \n",
    "    return (total_bandwidth * np.log2(1 + db2lin(sinr))) / 1e6"
   ]
  },
  {
   "cell_type": "code",
   "execution_count": 15,
   "id": "8023ae9b-83cb-40c2-8594-5c14aba1ab19",
   "metadata": {},
   "outputs": [],
   "source": [
    "def power_noise(total_bandwidth, num_ch):\n",
    "    \n",
    "    return (total_bandwidth/num_ch) * 1e-20"
   ]
  },
  {
   "cell_type": "code",
   "execution_count": 16,
   "id": "3cc95670-ffbc-47fa-9b52-050f5192c66b",
   "metadata": {},
   "outputs": [],
   "source": [
    "num_ue = 13\n",
    "num_ap = 64\n",
    "num_ch = 2\n",
    "\n",
    "cov_side = 1000 # [m]\n",
    "seeds = 1000\n",
    "\n",
    "sh_std = 2\n",
    "mp_std = 1 / np.sqrt(2) \n",
    "\n",
    "noise_p = power_noise(total_bandwidth, num_ch)"
   ]
  },
  {
   "cell_type": "code",
   "execution_count": 218,
   "id": "bbf1d865-7864-49a1-8479-5193f0b781b4",
   "metadata": {},
   "outputs": [
    {
     "name": "stderr",
     "output_type": "stream",
     "text": [
      "/tmp/ipykernel_5458/630489032.py:2: RuntimeWarning: divide by zero encountered in log10\n",
      "  return 10.0*np.log10(x)\n"
     ]
    }
   ],
   "source": [
    "total_sinr_random = np.zeros((num_ue, seeds))\n",
    "total_sinr_maximum = np.zeros((num_ue, seeds))\n",
    "total_sinr_reallocation = np.zeros((num_ue, seeds))\n",
    "\n",
    "total_capacity_random = np.zeros((num_ue, seeds))\n",
    "total_capacity_maximum = np.zeros((num_ue, seeds))\n",
    "total_capacity_reallocation = np.zeros((num_ue, seeds))\n",
    "\n",
    "for seed in range(seeds):\n",
    "    \n",
    "    ue_pos = random_ue_positions(num_ue, cov_side)\n",
    "    ap_pos = ap_positions(num_ap, cov_side)\n",
    "    distances = distance(ue_pos, ap_pos)\n",
    "    \n",
    "    shadowing_matrix = shadowing(sh_std, num_ue, num_ap)\n",
    "    rayleigh_matrix = rayleigh(mp_std, num_ue, num_ap, num_ch)\n",
    "    \n",
    "    random_matrix = random_channel(distances, shadowing_matrix, rayleigh_matrix)\n",
    "    maximum_matrix = maximum_channel(distances, shadowing_matrix, rayleigh_matrix)\n",
    "    reallocation_matrix = reallocation_channel(distances, shadowing_matrix, rayleigh_matrix)\n",
    "    \n",
    "    npc_power = np.ones(num_ue)\n",
    "    \n",
    "    total_sinr_random[:, seed] = sinr(npc_power, random_matrix, noise_p)\n",
    "    total_sinr_maximum[:, seed] = sinr(npc_power, maximum_matrix, noise_p)\n",
    "    total_sinr_reallocation[:, seed] = sinr(npc_power, reallocation_matrix, noise_p)\n",
    "    \n",
    "    total_capacity_random[:, seed] = capacity(total_bandwidth, sinr(npc_power, random_matrix, noise_p))\n",
    "    total_capacity_maximum[:, seed] = capacity(total_bandwidth, sinr(npc_power, maximum_matrix, noise_p))\n",
    "    total_capacity_reallocation[:, seed] = capacity(total_bandwidth, sinr(npc_power, reallocation_matrix, noise_p))    "
   ]
  },
  {
   "cell_type": "code",
   "execution_count": 212,
   "id": "7cf1aedc-4ec9-43c3-8f19-8ae46a25c1a6",
   "metadata": {},
   "outputs": [
    {
     "ename": "NameError",
     "evalue": "name 'total_sinr_reallocation' is not defined",
     "output_type": "error",
     "traceback": [
      "\u001b[0;31m---------------------------------------------------------------------------\u001b[0m",
      "\u001b[0;31mNameError\u001b[0m                                 Traceback (most recent call last)",
      "Cell \u001b[0;32mIn[212], line 7\u001b[0m\n\u001b[1;32m      4\u001b[0m sinr_cdf_maximum \u001b[38;5;241m=\u001b[39m eCDF(total_sinr_maximum\u001b[38;5;241m.\u001b[39mflatten())\n\u001b[1;32m      5\u001b[0m plt\u001b[38;5;241m.\u001b[39mplot(sinr_cdf_maximum[\u001b[38;5;241m0\u001b[39m], sinr_cdf_maximum[\u001b[38;5;241m1\u001b[39m], label\u001b[38;5;241m=\u001b[39m\u001b[38;5;124m'\u001b[39m\u001b[38;5;124mMaximum channel allocation\u001b[39m\u001b[38;5;124m'\u001b[39m)\n\u001b[0;32m----> 7\u001b[0m sinr_cdf_reallocation \u001b[38;5;241m=\u001b[39m eCDF(\u001b[43mtotal_sinr_reallocation\u001b[49m\u001b[38;5;241m.\u001b[39mflatten())\n\u001b[1;32m      8\u001b[0m plt\u001b[38;5;241m.\u001b[39mplot(sinr_cdf_reallocation[\u001b[38;5;241m0\u001b[39m], sinr_cdf_reallocation[\u001b[38;5;241m1\u001b[39m], label\u001b[38;5;241m=\u001b[39m\u001b[38;5;124m'\u001b[39m\u001b[38;5;124mMaximum + Reallocation channel allocation\u001b[39m\u001b[38;5;124m'\u001b[39m)\n\u001b[1;32m     10\u001b[0m plt\u001b[38;5;241m.\u001b[39mxlabel(\u001b[38;5;124m'\u001b[39m\u001b[38;5;124mSINR [dB]\u001b[39m\u001b[38;5;124m'\u001b[39m)\n",
      "\u001b[0;31mNameError\u001b[0m: name 'total_sinr_reallocation' is not defined"
     ]
    },
    {
     "data": {
      "image/png": "[encoded data removed]",
      "text/plain": [
       "<Figure size 640x480 with 1 Axes>"
      ]
     },
     "metadata": {},
     "output_type": "display_data"
    }
   ],
   "source": [
    "sinr_cdf_random = eCDF(total_sinr_random.flatten())\n",
    "plt.plot(sinr_cdf_random[0], sinr_cdf_random[1], label='Random channel allocation')\n",
    "\n",
    "sinr_cdf_maximum = eCDF(total_sinr_maximum.flatten())\n",
    "plt.plot(sinr_cdf_maximum[0], sinr_cdf_maximum[1], label='Maximum channel allocation')\n",
    "\n",
    "sinr_cdf_reallocation = eCDF(total_sinr_reallocation.flatten())\n",
    "plt.plot(sinr_cdf_reallocation[0], sinr_cdf_reallocation[1], label='Maximum + Reallocation channel allocation')\n",
    "\n",
    "plt.xlabel('SINR [dB]')\n",
    "plt.ylabel('eCDF')\n",
    "\n",
    "plt.legend()\n",
    "plt.grid()"
   ]
  },
  {
   "cell_type": "code",
   "execution_count": 20,
   "id": "5159440b-88e6-4ee2-9229-423dbccb1895",
   "metadata": {},
   "outputs": [
    {
     "data": {
      "image/png": "[encoded data removed]",
      "text/plain": [
       "<Figure size 640x480 with 1 Axes>"
      ]
     },
     "metadata": {},
     "output_type": "display_data"
    }
   ],
   "source": [
    "capacity_cdf_random = eCDF(total_capacity_random.flatten())\n",
    "plt.plot(capacity_cdf_random[0], capacity_cdf_random[1], label='Random channel allocation')\n",
    "\n",
    "capacity_cdf_maximum = eCDF(total_capacity_maximum.flatten())\n",
    "plt.plot(capacity_cdf_maximum[0], capacity_cdf_maximum[1], label='Maximum channel allocation')\n",
    "\n",
    "\n",
    "plt.xlabel('Capacity [mbps]')\n",
    "plt.ylabel('eCDF')\n",
    "\n",
    "plt.legend()\n",
    "plt.grid()"
   ]
  }
 ],
 "metadata": {
  "kernelspec": {
   "display_name": "Python 3 (ipykernel)",
   "language": "python",
   "name": "python3"
  },
  "language_info": {
   "codemirror_mode": {
    "name": "ipython",
    "version": 3
   },
   "file_extension": ".py",
   "mimetype": "text/x-python",
   "name": "python",
   "nbconvert_exporter": "python",
   "pygments_lexer": "ipython3",
   "version": "3.12.2"
  }
 },
 "nbformat": 4,
 "nbformat_minor": 5
}
