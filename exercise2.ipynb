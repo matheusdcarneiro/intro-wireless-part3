{
 "cells": [
  {
   "cell_type": "code",
   "execution_count": null,
   "id": "02cd2f2d-bcfc-485c-b8de-d4ae42d91c83",
   "metadata": {},
   "outputs": [],
   "source": [
    "import numpy as np\n",
    "from matplotlib import pyplot as plt\n",
    "\n",
    "np.random.seed(14)"
   ]
  },
  {
   "cell_type": "code",
   "execution_count": null,
   "id": "b2fec128-6546-4c3c-bc14-9df70ee4c3cf",
   "metadata": {},
   "outputs": [],
   "source": [
    "def lin2db(x):\n",
    "    return 10.0*np.log10(x)\n",
    "\n",
    "def db2lin(x):\n",
    "    return 10.0**(x/10.0)\n",
    "\n",
    "def lin2dbm(x):\n",
    "    return 10.0*np.log10(x)+30.0\n",
    "\n",
    "def dbm2lin(x):\n",
    "    return 10.0**(x/10.0 - 3.0)"
   ]
  },
  {
   "cell_type": "code",
   "execution_count": null,
   "id": "932ced92-a759-4072-b532-8301d773d77e",
   "metadata": {},
   "outputs": [],
   "source": [
    "def eCDF(data):\n",
    "    x = np.sort(data)\n",
    "    y = np.arange(0, len(data)) / len(data)\n",
    "\n",
    "    return x, y "
   ]
  },
  {
   "cell_type": "code",
   "execution_count": null,
   "id": "07eaa543-e29e-4a34-8a00-3e0c91bf66fa",
   "metadata": {},
   "outputs": [],
   "source": [
    "total_bandwidth = 100e6 # [Hz]\n",
    "tx_power = 1 # [W]\n",
    "\n",
    "environment_constant = 1e-4\n",
    "pathloss_exponent = 4\n",
    "\n",
    "cov_area = 1000 # [m]\n",
    "ref_distance = 1 # [m]"
   ]
  },
  {
   "cell_type": "code",
   "execution_count": null,
   "id": "e4b8d2b5-c3e7-4063-ac7d-f9e65f438f29",
   "metadata": {},
   "outputs": [],
   "source": [
    "def random_ue_positions(num_ue, cov_side):\n",
    "    ''' \n",
    "    Returns a random position vector within the coverage area.\n",
    "    \n",
    "    Parameters\n",
    "    ----------\n",
    "    cov_side : int, float\n",
    "        The side [in m] of the coverage area.\n",
    "    num_ue : int\n",
    "        The number of UEs.\n",
    "    '''\n",
    "    \n",
    "    ue_positions = np.zeros((num_ue, 2))\n",
    "    \n",
    "    for ue in range(num_ue):\n",
    "        ue_positions[ue] = [np.random.rand() * cov_side, np.random.rand() * cov_side]\n",
    "        \n",
    "    return ue_positions"
   ]
  },
  {
   "cell_type": "code",
   "execution_count": null,
   "id": "743c131e-231a-4e84-a8fb-44759e702f44",
   "metadata": {},
   "outputs": [],
   "source": [
    "def ap_positions(num_ap, cov_side):\n",
    "    ''' \n",
    "    Returns the APs positions based on the number of APs.\n",
    "    \n",
    "    Parameters\n",
    "    ----------\n",
    "    num_ap : int\n",
    "        The number of APs.\n",
    "    cov_side : int, float\n",
    "        The side [in m] of coverage area.\n",
    "    '''\n",
    "    \n",
    "    if np.sqrt(num_ap).is_integer():\n",
    "        \n",
    "        side_ap_quantity = int(np.sqrt(num_ap))\n",
    "        \n",
    "        ap_area_side = cov_side // side_ap_quantity\n",
    "        \n",
    "        x_pos, y_pos = np.meshgrid(np.arange(0.5 * ap_area_side,\n",
    "                                             cov_side,\n",
    "                                             ap_area_side),\n",
    "                                   np.arange(0.5 * ap_area_side,\n",
    "                                             cov_side,\n",
    "                                             ap_area_side))\n",
    " \n",
    "        aps_pos = np.column_stack((x_pos.ravel(), y_pos.ravel()))\n",
    "    \n",
    "        return aps_pos\n",
    "    \n",
    "    else:\n",
    "        \n",
    "        print('Number of APs must be a perfect square')"
   ]
  },
  {
   "cell_type": "code",
   "execution_count": null,
   "id": "2c6c3396-2b36-4fbb-8e85-85c762f36f91",
   "metadata": {},
   "outputs": [],
   "source": [
    "def distance(ue_pos, ap_pos, ref_distance=1):\n",
    "    ''' \n",
    "    Returns the distance [in m] between an UE and an AP. If distance is lower than reference distance, it returns the reference distance.\n",
    "    \n",
    "    Parameters\n",
    "    ----------\n",
    "    ue_pos : int, float\n",
    "        The UE position.\n",
    "    ap_pos : int, float\n",
    "        The AP position.\n",
    "    ref_distance : int, float\n",
    "        The reference distance [in m] from which the gain is calculated.\n",
    "    '''\n",
    "\n",
    "    dis_matrix = np.zeros((ue_pos.shape[0], ap_pos.shape[0]))\n",
    "    \n",
    "    for ue in range(ue_pos.shape[0]):\n",
    "        for ap in range(ap_pos.shape[0]):\n",
    "            dis = np.sqrt(((ue_pos[ue])[0] - (ap_pos[ap])[0])**2\n",
    "                          + ((ue_pos[ue])[1] - (ap_pos[ap])[1])**2)\n",
    "\n",
    "            if dis >= ref_distance:\n",
    "                dis_matrix[ue, ap] = dis\n",
    "            else:\n",
    "                dis_matrix[ue, ap] = ref_distance\n",
    "\n",
    "    return dis_matrix"
   ]
  },
  {
   "cell_type": "code",
   "execution_count": null,
   "id": "4483c0e6-b0f7-4691-a7b1-681a1e577b6d",
   "metadata": {},
   "outputs": [],
   "source": [
    "def shadowing(std, num_ue, num_ap):\n",
    "\n",
    "    return np.random.lognormal(sigma = std, size = (num_ue, num_ap) "
   ]
  },
  {
   "cell_type": "code",
   "execution_count": 1,
   "id": "67290154-880c-435b-a2d6-3d40835df2ba",
   "metadata": {},
   "outputs": [],
   "source": [
    "def rayleigh(std, num_ue, num_ap):\n",
    "\n",
    "    return np.sqrt((std*np.random.randn(num_ue, num_ap))**2 + (std*np.random.randn(num_ue, num_ap))**2) "
   ]
  },
  {
   "cell_type": "code",
   "execution_count": null,
   "id": "cbb1114e-77c5-4d5e-b2fd-b07ca1da4166",
   "metadata": {},
   "outputs": [],
   "source": [
    "def pathloss_channel(tx_power, distance):\n",
    "\n",
    "    return tx_power * (enviroment_constant / (distance ** pathloss_constant))"
   ]
  },
  {
   "cell_type": "code",
   "execution_count": null,
   "id": "b9ba31fc-34fb-464e-8961-cf9a43070ba5",
   "metadata": {},
   "outputs": [],
   "source": [
    "def shadowing_channeltx_power, distance, shadowing):\n",
    "\n",
    "    return shadowing * tx_power * (enviroment_constant / (distance ** pathloss_constant))"
   ]
  },
  {
   "cell_type": "code",
   "execution_count": 3,
   "id": "0f333687-730b-448c-9360-28b3ed340b0f",
   "metadata": {},
   "outputs": [],
   "source": [
    "def multipath_channel(tx_power, distance, shadowing, rayleigh):\n",
    "\n",
    "    return shadowing * tx_power * (enviroment_constant / (distance ** pathloss_constant)) * rayleigh**2"
   ]
  },
  {
   "cell_type": "code",
   "execution_count": null,
   "id": "cec07498-90c6-4a97-aa80-979f8171fda0",
   "metadata": {},
   "outputs": [],
   "source": [
    "def "
   ]
  }
 ],
 "metadata": {
  "kernelspec": {
   "display_name": "Python 3 (ipykernel)",
   "language": "python",
   "name": "python3"
  },
  "language_info": {
   "codemirror_mode": {
    "name": "ipython",
    "version": 3
   },
   "file_extension": ".py",
   "mimetype": "text/x-python",
   "name": "python",
   "nbconvert_exporter": "python",
   "pygments_lexer": "ipython3",
   "version": "3.12.2"
  }
 },
 "nbformat": 4,
 "nbformat_minor": 5
}
