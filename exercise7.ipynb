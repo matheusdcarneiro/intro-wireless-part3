{
 "cells": [
  {
   "cell_type": "code",
   "execution_count": 1,
   "id": "02cd2f2d-bcfc-485c-b8de-d4ae42d91c83",
   "metadata": {},
   "outputs": [],
   "source": [
    "import numpy as np\n",
    "from matplotlib import pyplot as plt\n",
    "from IPython.display import clear_output\n",
    "\n",
    "np.random.seed(14)"
   ]
  },
  {
   "cell_type": "code",
   "execution_count": 2,
   "id": "b2fec128-6546-4c3c-bc14-9df70ee4c3cf",
   "metadata": {},
   "outputs": [],
   "source": [
    "def lin2db(x):\n",
    "    return 10.0*np.log10(x)\n",
    "\n",
    "def db2lin(x):\n",
    "    return 10.0**(x/10.0)\n",
    "\n",
    "def lin2dbm(x):\n",
    "    return 10.0*np.log10(x)+30.0\n",
    "\n",
    "def dbm2lin(x):\n",
    "    return 10.0**(x/10.0 - 3.0)"
   ]
  },
  {
   "cell_type": "code",
   "execution_count": 3,
   "id": "932ced92-a759-4072-b532-8301d773d77e",
   "metadata": {},
   "outputs": [],
   "source": [
    "def eCDF(data):\n",
    "    x = np.sort(data)\n",
    "    y = np.arange(0, len(data)) / len(data)\n",
    "\n",
    "    return x, y "
   ]
  },
  {
   "cell_type": "code",
   "execution_count": 4,
   "id": "07eaa543-e29e-4a34-8a00-3e0c91bf66fa",
   "metadata": {},
   "outputs": [],
   "source": [
    "total_bandwidth = 100e6 # [Hz]\n",
    "\n",
    "environment_constant = 1e-4\n",
    "pathloss_constant = 4\n",
    "\n",
    "ref_distance = 1 # [m]"
   ]
  },
  {
   "cell_type": "code",
   "execution_count": 5,
   "id": "e4b8d2b5-c3e7-4063-ac7d-f9e65f438f29",
   "metadata": {},
   "outputs": [],
   "source": [
    "def random_ue_positions(num_ue, cov_side):\n",
    "    ''' \n",
    "    Returns a random position vector within the coverage area.\n",
    "    \n",
    "    Parameters\n",
    "    ----------\n",
    "    cov_side : int, float\n",
    "        The side [in m] of the coverage area.\n",
    "    num_ue : int\n",
    "        The number of UEs.\n",
    "    '''\n",
    "    \n",
    "    ue_positions = np.zeros((num_ue, 2))\n",
    "    \n",
    "    for ue in range(num_ue):\n",
    "        ue_positions[ue] = [np.random.rand() * cov_side, np.random.rand() * cov_side]\n",
    "        \n",
    "    return ue_positions"
   ]
  },
  {
   "cell_type": "code",
   "execution_count": 6,
   "id": "743c131e-231a-4e84-a8fb-44759e702f44",
   "metadata": {},
   "outputs": [],
   "source": [
    "def ap_positions(num_ap, cov_side):\n",
    "    ''' \n",
    "    Returns the APs positions based on the number of APs.\n",
    "    \n",
    "    Parameters\n",
    "    ----------\n",
    "    num_ap : int\n",
    "        The number of APs.\n",
    "    cov_side : int, float\n",
    "        The side [in m] of coverage area.\n",
    "    '''\n",
    "    \n",
    "    if np.sqrt(num_ap).is_integer():\n",
    "        \n",
    "        side_ap_quantity = int(np.sqrt(num_ap))\n",
    "        \n",
    "        ap_area_side = cov_side // side_ap_quantity\n",
    "        \n",
    "        x_pos, y_pos = np.meshgrid(np.arange(0.5 * ap_area_side,\n",
    "                                             cov_side,\n",
    "                                             ap_area_side),\n",
    "                                   np.arange(0.5 * ap_area_side,\n",
    "                                             cov_side,\n",
    "                                             ap_area_side))\n",
    " \n",
    "        aps_pos = np.column_stack((x_pos.ravel(), y_pos.ravel()))\n",
    "    \n",
    "        return aps_pos\n",
    "    \n",
    "    else:\n",
    "        \n",
    "        print('Number of APs must be a perfect square')"
   ]
  },
  {
   "cell_type": "code",
   "execution_count": 7,
   "id": "2c6c3396-2b36-4fbb-8e85-85c762f36f91",
   "metadata": {},
   "outputs": [],
   "source": [
    "def distance(ue_pos, ap_pos, ref_distance=1):\n",
    "    ''' \n",
    "    Returns the distance [in m] between an UE and an AP. If distance is lower than reference distance, it returns the reference distance.\n",
    "    \n",
    "    Parameters\n",
    "    ----------\n",
    "    ue_pos : int, float\n",
    "        The UE position.\n",
    "    ap_pos : int, float\n",
    "        The AP position.\n",
    "    ref_distance : int, float\n",
    "        The reference distance [in m] from which the gain is calculated.\n",
    "    '''\n",
    "\n",
    "    dis_matrix = np.zeros((ue_pos.shape[0], ap_pos.shape[0]))\n",
    "    \n",
    "    for ue in range(ue_pos.shape[0]):\n",
    "        for ap in range(ap_pos.shape[0]):\n",
    "            dis = np.sqrt(((ue_pos[ue])[0] - (ap_pos[ap])[0])**2\n",
    "                          + ((ue_pos[ue])[1] - (ap_pos[ap])[1])**2)\n",
    "\n",
    "            if dis >= ref_distance:\n",
    "                dis_matrix[ue, ap] = dis\n",
    "            else:\n",
    "                dis_matrix[ue, ap] = ref_distance\n",
    "\n",
    "    return dis_matrix"
   ]
  },
  {
   "cell_type": "code",
   "execution_count": 8,
   "id": "4483c0e6-b0f7-4691-a7b1-681a1e577b6d",
   "metadata": {},
   "outputs": [],
   "source": [
    "def shadowing(std, num_ue, num_ap):\n",
    "\n",
    "    return np.random.lognormal(sigma = std, size = (num_ue, num_ap))"
   ]
  },
  {
   "cell_type": "code",
   "execution_count": 9,
   "id": "67290154-880c-435b-a2d6-3d40835df2ba",
   "metadata": {},
   "outputs": [],
   "source": [
    "def rayleigh(std, num_ue, num_ap):\n",
    "\n",
    "    return np.sqrt((std*np.random.randn(num_ue, num_ap))**2 + (std*np.random.randn(num_ue, num_ap))**2) "
   ]
  },
  {
   "cell_type": "code",
   "execution_count": 10,
   "id": "0f333687-730b-448c-9360-28b3ed340b0f",
   "metadata": {},
   "outputs": [],
   "source": [
    "def multipath_channel(distance, shadowing, rayleigh):\n",
    "\n",
    "    return shadowing * (environment_constant / (distance ** pathloss_constant)) * rayleigh**2"
   ]
  },
  {
   "cell_type": "code",
   "execution_count": 11,
   "id": "bc8041c2-91a2-4d74-b45d-f86399d23f62",
   "metadata": {},
   "outputs": [],
   "source": [
    "def rx_power(channel, tx_power):\n",
    "    \n",
    "    power_vector = np.zeros(channel.shape)\n",
    "    \n",
    "    for ue in range(channel.shape[0]):\n",
    "\n",
    "        max_index = np.where(channel[ue, :] == channel[ue, :].max())\n",
    "        power_vector[ue][max_index] = tx_power[ue] * channel[ue, :].max()\n",
    "        \n",
    "    return power_vector"
   ]
  },
  {
   "cell_type": "code",
   "execution_count": 12,
   "id": "95115398-2cb8-4ab1-9e37-1436215d576e",
   "metadata": {},
   "outputs": [],
   "source": [
    "def sinr(power_vector, channel, power_noise):\n",
    "    \n",
    "    sinr_matrix = np.zeros(channel.shape)\n",
    "    sinr_vector = np.zeros(channel.shape[0])\n",
    "    \n",
    "    for col in range(channel.shape[1]):\n",
    "\n",
    "        channel_sum = 0\n",
    "        \n",
    "        for row in range(channel.shape[0]):\n",
    "\n",
    "            channel_sum += np.abs(channel[row, col]) * power_vector[row]\n",
    "\n",
    "        for row in range(channel.shape[0]):\n",
    "\n",
    "            interest_channel = power_vector[row] * np.abs(channel[row, col])\n",
    "\n",
    "            sinr_matrix[row, col] = interest_channel / ((channel_sum - interest_channel) + power_noise)\n",
    "\n",
    "    for row in range(channel.shape[0]):\n",
    "\n",
    "        sinr_vector[row] = sinr_matrix[row].max()\n",
    "\n",
    "    return lin2db(sinr_vector)"
   ]
  },
  {
   "cell_type": "code",
   "execution_count": 37,
   "id": "0a244fa1-d59e-4114-9073-8a10634d6634",
   "metadata": {},
   "outputs": [],
   "source": [
    "def ud_dpc(sinr_target, p_max, p_min, step, channel, total_time):\n",
    "\n",
    "    power_vector = np.ones((1, channel.shape[0])).T\n",
    "    sinr_vector = np.zeros((1, channel.shape[0])).T\n",
    "\n",
    "    time = 0\n",
    "\n",
    "    while time <= total_time:\n",
    "\n",
    "        sinr_vector = db2lin(sinr(power_vector.T[0], channel, noise_p))\n",
    "        \n",
    "        power_vector = power_vector + (step * np.sign(sinr_target - sinr_vector)).reshape(power_vector.shape)\n",
    "        \n",
    "        for p in range(power_vector.shape[0]):\n",
    "\n",
    "            if power_vector[p] > p_max:\n",
    "\n",
    "                power_vector[p] = p_max\n",
    "\n",
    "            if power_vector[p] < p_min:\n",
    "\n",
    "                power_vector[p] = p_min\n",
    "\n",
    "        time += 1\n",
    "    \n",
    "    return power_vector.T[0]"
   ]
  },
  {
   "cell_type": "code",
   "execution_count": 14,
   "id": "ba3c517e-f301-4b2b-99cb-f12fc53da8e7",
   "metadata": {},
   "outputs": [],
   "source": [
    "def capacity(total_bandwidth, sinr):\n",
    "    \n",
    "    return (total_bandwidth * np.log2(1 + db2lin(sinr))) / 1e6"
   ]
  },
  {
   "cell_type": "code",
   "execution_count": 15,
   "id": "8023ae9b-83cb-40c2-8594-5c14aba1ab19",
   "metadata": {},
   "outputs": [],
   "source": [
    "def power_noise(total_bandwidth):\n",
    "    \n",
    "    return total_bandwidth * 1e-20"
   ]
  },
  {
   "cell_type": "code",
   "execution_count": 64,
   "id": "3cc95670-ffbc-47fa-9b52-050f5192c66b",
   "metadata": {},
   "outputs": [],
   "source": [
    "num_ue = 4\n",
    "num_ap = 4\n",
    "cov_side = 1000 # [m]\n",
    "seeds = 1000\n",
    "\n",
    "sh_std = 2\n",
    "mp_std = 1 / np.sqrt(2) \n",
    "\n",
    "noise_p = power_noise(total_bandwidth)"
   ]
  },
  {
   "cell_type": "code",
   "execution_count": 50,
   "id": "575fe8f3-586b-4102-b5cd-d23b83a5d571",
   "metadata": {},
   "outputs": [],
   "source": [
    "sinr_target = 1\n",
    "p_max = 1\n",
    "p_min = 1e-3\n",
    "step = 1e-3\n",
    "total_time = 100"
   ]
  },
  {
   "cell_type": "code",
   "execution_count": 69,
   "id": "bbf1d865-7864-49a1-8479-5193f0b781b4",
   "metadata": {},
   "outputs": [],
   "source": [
    "def simulation(num_ue):\n",
    "\n",
    "    ud_total_sinr = np.zeros((num_ue, seeds))\n",
    "    npc_total_sinr = np.zeros((num_ue, seeds))\n",
    "    \n",
    "    ud_total_capacity = np.zeros((num_ue, seeds))\n",
    "    npc_total_capacity = np.zeros((num_ue, seeds))\n",
    "    \n",
    "    for seed in range(seeds):\n",
    "        \n",
    "        #ue_pos = random_ue_positions(num_ue, cov_side)\n",
    "\n",
    "        ue_pos = np.array([[225.83, 203.33], [566.79, 321.88], [765.51, 146.88], [265.95, 702.39]])\n",
    "        \n",
    "        ap_pos = ap_positions(num_ap, cov_side)\n",
    "        distances = distance(ue_pos, ap_pos)\n",
    "        \n",
    "        #shadowing_matrix = shadowing(sh_std, num_ue, num_ap)\n",
    "        #rayleigh_matrix = rayleigh(mp_std, num_ue, num_ap)\n",
    "\n",
    "        shadowing_matrix = np.array([[5.3434e-2, 2.8731e-1, 1.9691e-2, 7.3013e-1], [3.2318, 1.5770, 2.6449e-1, 5.6379], \n",
    "                                     [6.1470e-3, 1.1424, 2.6826e-1, 4.5709], [1.3485e-1, 4.6690e-1, 7.8250e-1, 1.6742]])\n",
    "    \n",
    "        rayleigh_matrix = np.array([[1.248699, 3.248041, 0.772754, 0.708962], [0.498887, 0.104890, 0.647280, 0.940906], \n",
    "                                     [0.382966, 0.6827, 1.891256, 0.3271], [0.065737, 0.6495, 1.981107, 1.259538]])\n",
    "\n",
    "        \n",
    "        channel_matrix = multipath_channel(distances, shadowing_matrix, rayleigh_matrix)\n",
    "\n",
    "        print(channel_matrix)\n",
    "        \n",
    "        ud_power = ud_dpc(sinr_target, p_max, p_min, step, channel_matrix, total_time)\n",
    "        npc_power = np.ones(num_ue)\n",
    "\n",
    "        ud_total_sinr[:, seed] = sinr(ud_power, channel_matrix, noise_p)\n",
    "        npc_total_sinr[:, seed] = sinr(npc_power, channel_matrix, noise_p)\n",
    "        \n",
    "        ud_total_capacity[:, seed] = capacity(total_bandwidth, sinr(ud_power, channel_matrix, noise_p))\n",
    "        npc_total_capacity[:, seed] = capacity(total_bandwidth, sinr(npc_power, channel_matrix, noise_p))\n",
    "\n",
    "        clear_output(wait=True)\n",
    "\n",
    "\n",
    "    return ud_total_sinr, npc_total_sinr, ud_total_capacity, npc_total_capacity"
   ]
  },
  {
   "cell_type": "code",
   "execution_count": 70,
   "id": "452c48f3-af94-4b26-9d7a-3972782e15a5",
   "metadata": {
    "scrolled": true
   },
   "outputs": [
    {
     "name": "stdout",
     "output_type": "stream",
     "text": [
      "[[1.09193933e-12 3.95226987e-15 1.31145402e-17 1.11538391e-16]\n",
      " [7.22366450e-15 1.15650017e-15 1.37736994e-16 1.06140327e-14]\n",
      " [1.18020358e-18 4.50272910e-13 2.42135888e-16 3.69125166e-16]\n",
      " [1.38784090e-18 1.02218637e-16 4.83186772e-11 4.74576747e-15]]\n"
     ]
    }
   ],
   "source": [
    "sim = simulation(num_ue)"
   ]
  },
  {
   "cell_type": "code",
   "execution_count": 71,
   "id": "7cf1aedc-4ec9-43c3-8f19-8ae46a25c1a6",
   "metadata": {},
   "outputs": [
    {
     "data": {
      "image/png": "[encoded data removed]",
      "text/plain": [
       "<Figure size 640x480 with 1 Axes>"
      ]
     },
     "metadata": {},
     "output_type": "display_data"
    }
   ],
   "source": [
    "sinr_cdf_ud = eCDF(sim[0].flatten())\n",
    "plt.plot(sinr_cdf_ud[0], sinr_cdf_ud[1], label='Up-Down DPC')\n",
    "\n",
    "sinr_cdf_npc = eCDF(sim[1].flatten())\n",
    "plt.plot(sinr_cdf_npc[0], sinr_cdf_npc[1], label='No Power Control')\n",
    "\n",
    "plt.xlabel('SINR [dB]')\n",
    "plt.ylabel('eCDF')\n",
    "\n",
    "plt.legend()\n",
    "plt.grid()"
   ]
  },
  {
   "cell_type": "code",
   "execution_count": 72,
   "id": "5159440b-88e6-4ee2-9229-423dbccb1895",
   "metadata": {},
   "outputs": [
    {
     "data": {
      "image/png": "[encoded data removed]",
      "text/plain": [
       "<Figure size 640x480 with 1 Axes>"
      ]
     },
     "metadata": {},
     "output_type": "display_data"
    }
   ],
   "source": [
    "capacity_cdf_ud = eCDF(sim[0].flatten())\n",
    "plt.plot(capacity_cdf_ud[0], capacity_cdf_ud[1], label='Up-Down DPC')\n",
    "\n",
    "capacity_cdf_npc = eCDF(sim[1].flatten())\n",
    "plt.plot(capacity_cdf_npc[0], capacity_cdf_npc[1], label='No Power Control')\n",
    "\n",
    "plt.xlabel('Capacity [mbps]')\n",
    "plt.ylabel('eCDF')\n",
    "\n",
    "plt.legend()\n",
    "plt.grid()"
   ]
  }
 ],
 "metadata": {
  "kernelspec": {
   "display_name": "Python 3 (ipykernel)",
   "language": "python",
   "name": "python3"
  },
  "language_info": {
   "codemirror_mode": {
    "name": "ipython",
    "version": 3
   },
   "file_extension": ".py",
   "mimetype": "text/x-python",
   "name": "python",
   "nbconvert_exporter": "python",
   "pygments_lexer": "ipython3",
   "version": "3.12.2"
  }
 },
 "nbformat": 4,
 "nbformat_minor": 5
}
