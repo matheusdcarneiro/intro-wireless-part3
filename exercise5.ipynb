{
 "cells": [
  {
   "cell_type": "code",
   "execution_count": 2,
   "id": "02cd2f2d-bcfc-485c-b8de-d4ae42d91c83",
   "metadata": {},
   "outputs": [],
   "source": [
    "import numpy as np\n",
    "from matplotlib import pyplot as plt\n",
    "from IPython.display import clear_output\n",
    "\n",
    "import sys\n",
    "np.set_printoptions(threshold=sys.maxsize)\n",
    "\n",
    "np.random.seed(14)"
   ]
  },
  {
   "cell_type": "code",
   "execution_count": 3,
   "id": "b2fec128-6546-4c3c-bc14-9df70ee4c3cf",
   "metadata": {},
   "outputs": [],
   "source": [
    "def lin2db(x):\n",
    "    return 10.0*np.log10(x)\n",
    "\n",
    "def db2lin(x):\n",
    "    return 10.0**(x/10.0)\n",
    "\n",
    "def lin2dbm(x):\n",
    "    return 10.0*np.log10(x)+30.0\n",
    "\n",
    "def dbm2lin(x):\n",
    "    return 10.0**(x/10.0 - 3.0)"
   ]
  },
  {
   "cell_type": "code",
   "execution_count": 4,
   "id": "932ced92-a759-4072-b532-8301d773d77e",
   "metadata": {},
   "outputs": [],
   "source": [
    "def eCDF(data):\n",
    "    x = np.sort(data)\n",
    "    y = np.arange(0, len(data)) / len(data)\n",
    "\n",
    "    return x, y "
   ]
  },
  {
   "cell_type": "code",
   "execution_count": 5,
   "id": "07eaa543-e29e-4a34-8a00-3e0c91bf66fa",
   "metadata": {},
   "outputs": [],
   "source": [
    "total_bandwidth = 100e6 # [Hz]\n",
    "tx_power = 1 # [W]\n",
    "\n",
    "environment_constant = 1e-4\n",
    "pathloss_constant = 4\n",
    "\n",
    "ref_distance = 1 # [m]"
   ]
  },
  {
   "cell_type": "code",
   "execution_count": 6,
   "id": "e4b8d2b5-c3e7-4063-ac7d-f9e65f438f29",
   "metadata": {},
   "outputs": [],
   "source": [
    "def random_ue_positions(num_ue, cov_side):\n",
    "    ''' \n",
    "    Returns a random position vector within the coverage area.\n",
    "    \n",
    "    Parameters\n",
    "    ----------\n",
    "    cov_side : int, float\n",
    "        The side [in m] of the coverage area.\n",
    "    num_ue : int\n",
    "        The number of UEs.\n",
    "    '''\n",
    "    \n",
    "    ue_positions = np.zeros((num_ue, 2))\n",
    "    \n",
    "    for ue in range(num_ue):\n",
    "        ue_positions[ue] = [np.random.rand() * cov_side, np.random.rand() * cov_side]\n",
    "        \n",
    "    return ue_positions"
   ]
  },
  {
   "cell_type": "code",
   "execution_count": 7,
   "id": "743c131e-231a-4e84-a8fb-44759e702f44",
   "metadata": {},
   "outputs": [],
   "source": [
    "def ap_positions(num_ap, cov_side):\n",
    "    ''' \n",
    "    Returns the APs positions based on the number of APs.\n",
    "    \n",
    "    Parameters\n",
    "    ----------\n",
    "    num_ap : int\n",
    "        The number of APs.\n",
    "    cov_side : int, float\n",
    "        The side [in m] of coverage area.\n",
    "    '''\n",
    "    \n",
    "    if np.sqrt(num_ap).is_integer():\n",
    "        \n",
    "        side_ap_quantity = int(np.sqrt(num_ap))\n",
    "        \n",
    "        ap_area_side = cov_side // side_ap_quantity\n",
    "        \n",
    "        x_pos, y_pos = np.meshgrid(np.arange(0.5 * ap_area_side,\n",
    "                                             cov_side,\n",
    "                                             ap_area_side),\n",
    "                                   np.arange(0.5 * ap_area_side,\n",
    "                                             cov_side,\n",
    "                                             ap_area_side))\n",
    " \n",
    "        aps_pos = np.column_stack((x_pos.ravel(), y_pos.ravel()))\n",
    "    \n",
    "        return aps_pos\n",
    "    \n",
    "    else:\n",
    "        \n",
    "        print('Number of APs must be a perfect square')"
   ]
  },
  {
   "cell_type": "code",
   "execution_count": 8,
   "id": "2c6c3396-2b36-4fbb-8e85-85c762f36f91",
   "metadata": {},
   "outputs": [],
   "source": [
    "def distance(ue_pos, ap_pos, ref_distance=1):\n",
    "    ''' \n",
    "    Returns the distance [in m] between an UE and an AP. If distance is lower than reference distance, it returns the reference distance.\n",
    "    \n",
    "    Parameters\n",
    "    ----------\n",
    "    ue_pos : int, float\n",
    "        The UE position.\n",
    "    ap_pos : int, float\n",
    "        The AP position.\n",
    "    ref_distance : int, float\n",
    "        The reference distance [in m] from which the gain is calculated.\n",
    "    '''\n",
    "\n",
    "    dis_matrix = np.zeros((ue_pos.shape[0], ap_pos.shape[0]))\n",
    "    \n",
    "    for ue in range(ue_pos.shape[0]):\n",
    "        for ap in range(ap_pos.shape[0]):\n",
    "            dis = np.sqrt(((ue_pos[ue])[0] - (ap_pos[ap])[0])**2\n",
    "                          + ((ue_pos[ue])[1] - (ap_pos[ap])[1])**2)\n",
    "\n",
    "            if dis >= ref_distance:\n",
    "                dis_matrix[ue, ap] = dis\n",
    "            else:\n",
    "                dis_matrix[ue, ap] = ref_distance\n",
    "\n",
    "    return dis_matrix"
   ]
  },
  {
   "cell_type": "code",
   "execution_count": 9,
   "id": "4483c0e6-b0f7-4691-a7b1-681a1e577b6d",
   "metadata": {},
   "outputs": [],
   "source": [
    "def shadowing(std, num_ue, num_ap):\n",
    "\n",
    "    return np.random.lognormal(sigma = std, size = (num_ue, num_ap))"
   ]
  },
  {
   "cell_type": "code",
   "execution_count": 10,
   "id": "67290154-880c-435b-a2d6-3d40835df2ba",
   "metadata": {},
   "outputs": [],
   "source": [
    "def rayleigh(std, num_ue, num_ap, num_ch):\n",
    "\n",
    "    return np.sqrt((std*np.random.randn(num_ch, num_ue, num_ap))**2 + (std*np.random.randn(num_ch, num_ue, num_ap))**2) "
   ]
  },
  {
   "cell_type": "code",
   "execution_count": 11,
   "id": "0f333687-730b-448c-9360-28b3ed340b0f",
   "metadata": {},
   "outputs": [],
   "source": [
    "def random_channel(distance, shadowing, rayleigh):\n",
    "\n",
    "    channel = shadowing * (environment_constant / (distance ** pathloss_constant)) * rayleigh**2\n",
    "\n",
    "    if rayleigh.shape[0] > 1:\n",
    "        \n",
    "        for row in range(rayleigh.shape[1]):\n",
    "    \n",
    "            channel[np.random.randint(0, rayleigh.shape[0]), row, :] = np.zeros(rayleigh.shape[2])\n",
    "\n",
    "    else:\n",
    "\n",
    "        pass\n",
    "        \n",
    "    return channel"
   ]
  },
  {
   "cell_type": "code",
   "execution_count": 12,
   "id": "95115398-2cb8-4ab1-9e37-1436215d576e",
   "metadata": {},
   "outputs": [],
   "source": [
    "def sinr(power_vector, channel, power_noise):\n",
    "    \n",
    "    sinr_matrix = np.zeros(channel.shape)\n",
    "    sinr_vector = np.zeros(channel.shape[1])\n",
    "\n",
    "    for ch in range(channel.shape[0]):\n",
    "\n",
    "        for col in range(channel.shape[2]):\n",
    "        \n",
    "            channel_sum = 0\n",
    "            \n",
    "            for row in range(channel.shape[1]):\n",
    "\n",
    "                channel_sum += np.abs(channel[ch, row, col]) * power_vector[row]\n",
    "            \n",
    "            for row in range(channel.shape[1]):\n",
    "    \n",
    "                interest_channel = power_vector[row] * np.abs(channel[ch, row, col])\n",
    "    \n",
    "                sinr_matrix[ch, row, col] = interest_channel / ((channel_sum - interest_channel) + power_noise)\n",
    "    \n",
    "    for row in range(channel.shape[1]):\n",
    "\n",
    "        sinr_vector[row] = sinr_matrix[:, row, :].max()\n",
    "\n",
    "    return lin2db(sinr_vector)"
   ]
  },
  {
   "cell_type": "code",
   "execution_count": 13,
   "id": "1fab00a4-1d2d-4e8c-a231-4047191a2317",
   "metadata": {},
   "outputs": [
    {
     "name": "stdout",
     "output_type": "stream",
     "text": [
      "[[[1.16513746e-17 9.38458185e-16 5.68792966e-17 2.20413143e-13]\n",
      "  [7.04912694e-16 1.31096537e-13 2.49219356e-16 1.23040931e-15]\n",
      "  [1.45677734e-17 1.76158864e-15 1.77045333e-13 1.89596994e-14]]\n",
      "\n",
      " [[0.00000000e+00 0.00000000e+00 0.00000000e+00 0.00000000e+00]\n",
      "  [0.00000000e+00 0.00000000e+00 0.00000000e+00 0.00000000e+00]\n",
      "  [0.00000000e+00 0.00000000e+00 0.00000000e+00 0.00000000e+00]]]\n"
     ]
    }
   ],
   "source": [
    "uepos = random_ue_positions(3, 1000)\n",
    "appos = ap_positions(4, 1000)\n",
    "dis = distance(uepos, appos)\n",
    "\n",
    "sh = shadowing(2, 3, 4)\n",
    "r = rayleigh(1, 3, 4, 2)\n",
    "\n",
    "ch = random_channel(dis, sh, r)\n",
    "\n",
    "p = np.ones(3)\n",
    "\n",
    "print(ch)"
   ]
  },
  {
   "cell_type": "code",
   "execution_count": 28,
   "id": "ba3c517e-f301-4b2b-99cb-f12fc53da8e7",
   "metadata": {},
   "outputs": [],
   "source": [
    "def capacity(total_bandwidth, num_ch, sinr):\n",
    "    \n",
    "    return ((total_bandwidth / num_ch) * np.log2(1 + db2lin(sinr))) / 1e6"
   ]
  },
  {
   "cell_type": "code",
   "execution_count": 15,
   "id": "8023ae9b-83cb-40c2-8594-5c14aba1ab19",
   "metadata": {},
   "outputs": [],
   "source": [
    "def power_noise(total_bandwidth, num_ch):\n",
    "    \n",
    "    return (total_bandwidth/num_ch) * 1e-20"
   ]
  },
  {
   "cell_type": "code",
   "execution_count": 16,
   "id": "3cc95670-ffbc-47fa-9b52-050f5192c66b",
   "metadata": {},
   "outputs": [],
   "source": [
    "num_ue = 13\n",
    "num_ap = 64\n",
    "num_ch = 10\n",
    "\n",
    "cov_side = 1000 # [m]\n",
    "seeds = 1000\n",
    "\n",
    "sh_std = 2\n",
    "mp_std = 1 / np.sqrt(2) "
   ]
  },
  {
   "cell_type": "code",
   "execution_count": 29,
   "id": "bbf1d865-7864-49a1-8479-5193f0b781b4",
   "metadata": {},
   "outputs": [],
   "source": [
    "def simulation(num_ch):\n",
    "\n",
    "    fairness_index = np.zeros(num_ch)\n",
    "    \n",
    "    for numch in range(num_ch):\n",
    "\n",
    "        noise_p = power_noise(total_bandwidth, (numch+1))\n",
    "    \n",
    "        total_sinr_random = np.zeros((num_ue, seeds))\n",
    "       \n",
    "        total_capacity_random = np.zeros((num_ue, seeds))\n",
    "    \n",
    "        for seed in range(seeds):\n",
    "            \n",
    "            ue_pos = random_ue_positions(num_ue, cov_side)\n",
    "            ap_pos = ap_positions(num_ap, cov_side)\n",
    "            distances = distance(ue_pos, ap_pos)\n",
    "            \n",
    "            shadowing_matrix = shadowing(sh_std, num_ue, num_ap)\n",
    "            rayleigh_matrix = rayleigh(mp_std, num_ue, num_ap, (numch+1))\n",
    "            \n",
    "            random_matrix = random_channel(distances, shadowing_matrix, rayleigh_matrix)\n",
    "            \n",
    "            npc_power = np.ones(num_ue)\n",
    "            \n",
    "            system_sinr = sinr(npc_power, random_matrix, noise_p)\n",
    "            \n",
    "            total_sinr_random[:, seed] = system_sinr\n",
    "            \n",
    "            total_capacity_random[:, seed] = capacity(total_bandwidth, (numch+1), system_sinr)\n",
    "            \n",
    "            clear_output(wait=True)\n",
    "\n",
    "        fairness_index[numch] = np.median(np.sort(total_capacity_random.flatten())) / np.percentile(np.sort(total_capacity_random.flatten()), 10)\n",
    "        \n",
    "    return fairness_index"
   ]
  },
  {
   "cell_type": "code",
   "execution_count": 30,
   "id": "82442077-3756-4d03-a045-f21e845dc8a9",
   "metadata": {},
   "outputs": [],
   "source": [
    "sim = simulation(num_ch)"
   ]
  },
  {
   "cell_type": "code",
   "execution_count": 31,
   "id": "d7963643-fbd3-4b50-8706-43cdfea5d31a",
   "metadata": {},
   "outputs": [
    {
     "data": {
      "text/plain": [
       "array([3.77563824, 2.72445981, 2.12248618, 1.97465428, 1.91036571,\n",
       "       1.86052272, 1.84863701, 1.82479081, 1.76606335, 1.76496399])"
      ]
     },
     "execution_count": 31,
     "metadata": {},
     "output_type": "execute_result"
    }
   ],
   "source": [
    "sim"
   ]
  },
  {
   "cell_type": "code",
   "execution_count": 33,
   "id": "524c2476-26a6-4647-b713-703d7e12454f",
   "metadata": {},
   "outputs": [
    {
     "data": {
      "image/png": "[encoded data removed]",
      "text/plain": [
       "<Figure size 640x480 with 1 Axes>"
      ]
     },
     "metadata": {},
     "output_type": "display_data"
    }
   ],
   "source": [
    "xaxis = np.arange(1, 11)\n",
    "\n",
    "plt.plot(xaxis, sim, color='blue', linestyle='-', marker='o')\n",
    "\n",
    "plt.ylabel('Fairness index')\n",
    "plt.xlabel('Channel quantity')\n",
    "\n",
    "yticks = np.linspace(0, 4, num=10)  \n",
    "plt.yticks(yticks)\n",
    "plt.xticks(xaxis)\n",
    "plt.grid()"
   ]
  }
 ],
 "metadata": {
  "kernelspec": {
   "display_name": "Python 3 (ipykernel)",
   "language": "python",
   "name": "python3"
  },
  "language_info": {
   "codemirror_mode": {
    "name": "ipython",
    "version": 3
   },
   "file_extension": ".py",
   "mimetype": "text/x-python",
   "name": "python",
   "nbconvert_exporter": "python",
   "pygments_lexer": "ipython3",
   "version": "3.12.2"
  }
 },
 "nbformat": 4,
 "nbformat_minor": 5
}
